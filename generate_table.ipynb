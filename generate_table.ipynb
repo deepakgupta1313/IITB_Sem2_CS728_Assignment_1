{
 "cells": [
  {
   "cell_type": "code",
   "execution_count": 32,
   "metadata": {
    "collapsed": true
   },
   "outputs": [],
   "source": [
    "import re\n",
    "import nltk\n",
    "\n",
    "folder=\"Outputs/\";\n",
    "\n",
    "data=[];\n",
    "\n",
    "for i in range(7):\n",
    "    with open(folder+'test4_0'+str(i)+'.ids') as inputfile:\n",
    "        tempp=inputfile.read();\n",
    "        tempp=tempp.split();\n",
    "        #print(tempp);\n",
    "        data.append(tempp);\n",
    "        #print(len(data[i]));"
   ]
  },
  {
   "cell_type": "code",
   "execution_count": 33,
   "metadata": {},
   "outputs": [
    {
     "name": "stdout",
     "output_type": "stream",
     "text": [
      "S No\tTrue Values\tstructSVM\t\tCRF\tSVM_Single\tSVM_Sequence\tLogistic_Single\tLogistic_Sequence\tMatchings\n\n0\t\t0\t0\t\t0\t0\t\t0\t\t0\t\t0\t\t0\n1\t\t0\t0\t\t0\t0\t\t0\t\t0\t\t0\t\t0\n2\t\t0\t0\t\t0\t0\t\t0\t\t0\t\t1\t\t0\n3\t\t0\t0\t\t0\t0\t\t0\t\t0\t\t1\t\t0\n4\t\t0\t0\t\t0\t0\t\t0\t\t1\t\t0\t\t0\n5\t\t0\t0\t\t0\t0\t\t0\t\t1\t\t0\t\t0\n6\t\t0\t0\t\t0\t0\t\t0\t\t1\t\t1\t\t4506\n7\t\t0\t0\t\t0\t0\t\t0\t\t1\t\t1\t\t4506\n8\t\t0\t0\t\t0\t0\t\t1\t\t0\t\t0\t\t0\n9\t\t0\t0\t\t0\t0\t\t1\t\t0\t\t0\t\t0\n10\t\t0\t0\t\t0\t0\t\t1\t\t0\t\t1\t\t5811\n11\t\t0\t0\t\t0\t0\t\t1\t\t0\t\t1\t\t5811\n12\t\t0\t0\t\t0\t0\t\t1\t\t1\t\t0\t\t4605\n13\t\t0\t0\t\t0\t0\t\t1\t\t1\t\t0\t\t4605\n14\t\t0\t0\t\t0\t0\t\t1\t\t1\t\t1\t\t4160\n15\t\t0\t0\t\t0\t0\t\t1\t\t1\t\t1\t\t4160\n16\t\t0\t0\t\t0\t1\t\t0\t\t0\t\t0\t\t0\n17\t\t0\t0\t\t0\t1\t\t0\t\t0\t\t0\t\t0\n18\t\t0\t0\t\t0\t1\t\t0\t\t0\t\t1\t\t4692\n19\t\t0\t0\t\t0\t1\t\t0\t\t0\t\t1\t\t4692\n20\t\t0\t0\t\t0\t1\t\t0\t\t1\t\t0\t\t5372\n21\t\t0\t0\t\t0\t1\t\t0\t\t1\t\t0\t\t5372\n22\t\t0\t0\t\t0\t1\t\t0\t\t1\t\t1\t\t3973\n23\t\t0\t0\t\t0\t1\t\t0\t\t1\t\t1\t\t3973\n24\t\t0\t0\t\t0\t1\t\t1\t\t0\t\t0\t\t4861\n25\t\t0\t0\t\t0\t1\t\t1\t\t0\t\t0\t\t4861"
     ]
    },
    {
     "name": "stdout",
     "output_type": "stream",
     "text": [
      "\n26\t\t0\t0\t\t0\t1\t\t1\t\t0\t\t1\t\t4389\n27\t\t0\t0\t\t0\t1\t\t1\t\t0\t\t1\t\t4389\n28\t\t0\t0\t\t0\t1\t\t1\t\t1\t\t0\t\t4098\n29\t\t0\t0\t\t0\t1\t\t1\t\t1\t\t0\t\t4098\n30\t\t0\t0\t\t0\t1\t\t1\t\t1\t\t1\t\t3721\n31\t\t0\t0\t\t0\t1\t\t1\t\t1\t\t1\t\t3721\n32\t\t0\t0\t\t1\t0\t\t0\t\t0\t\t0\t\t0\n33\t\t0\t0\t\t1\t0\t\t0\t\t0\t\t0\t\t0\n34\t\t0\t0\t\t1\t0\t\t0\t\t0\t\t1\t\t4066\n35\t\t0\t0\t\t1\t0\t\t0\t\t0\t\t1\t\t4066\n36\t\t0\t0\t\t1\t0\t\t0\t\t1\t\t0\t\t3197\n37\t\t0\t0\t\t1\t0\t\t0\t\t1\t\t0\t\t3197\n38\t\t0\t0\t\t1\t0\t\t0\t\t1\t\t1\t\t2761\n39\t\t0\t0\t\t1\t0\t\t0\t\t1\t\t1\t\t2761\n40\t\t0\t0\t\t1\t0\t\t1\t\t0\t\t0\t\t4217\n41\t\t0\t0\t\t1\t0\t\t1\t\t0\t\t0\t\t4217\n42\t\t0\t0\t\t1\t0\t\t1\t\t0\t\t1\t\t3833\n43\t\t0\t0\t\t1\t0\t\t1\t\t0\t\t1\t\t3833\n44\t\t0\t0\t\t1\t0\t\t1\t\t1\t\t0\t\t2814\n45\t\t0\t0\t\t1\t0\t\t1\t\t1\t\t0\t\t2814\n46\t\t0\t0\t\t1\t0\t\t1\t\t1\t\t1\t\t2629\n47\t\t0\t0\t\t1\t0\t\t1\t\t1\t\t1\t\t2629\n48\t\t0\t0\t\t1\t1\t\t0\t\t0\t\t0\t\t3999\n49\t\t0\t0\t\t1\t1\t\t0\t\t0\t\t0\t\t3999\n50\t\t0\t0\t\t1\t1\t\t0\t\t0\t\t1\t\t3308\n51\t\t0\t0\t\t1\t1\t\t0\t\t0\t\t1\t\t3308\n52\t\t0\t0\t\t1\t1\t\t0\t\t1\t\t0\t\t3079\n53\t\t0\t0\t\t1\t1\t\t0\t\t1\t\t0\t\t3079\n54\t\t0\t0\t\t1\t1\t\t0\t\t1\t\t1\t\t2667\n55\t\t0\t0\t\t1\t1\t\t0\t\t1\t\t1\t\t2667\n56\t\t0\t0\t\t1\t1\t\t1\t\t0\t\t0\t\t3403\n57\t\t0\t0\t\t1\t1\t\t1\t\t0\t\t0\t\t3403\n58\t\t0\t0\t\t1\t1\t\t1\t\t0\t\t1\t\t3154\n59\t\t0\t0\t\t1\t1\t\t1\t\t0\t\t1\t\t3154\n60\t\t0\t0\t\t1\t1\t\t1\t\t1\t\t0\t\t2724\n61\t\t0\t0\t\t1\t1\t\t1\t\t1\t\t0\t\t2724\n62\t\t0\t0\t\t1\t1\t\t1\t\t1\t\t1\t\t2543\n63\t\t0\t0\t\t1\t1\t\t1\t\t1\t\t1\t\t2543\n64\t\t0\t1\t\t0\t0\t\t0\t\t0\t\t0\t\t0\n65\t\t0\t1\t\t0\t0\t\t0\t\t0\t\t0\t\t0\n"
     ]
    },
    {
     "name": "stdout",
     "output_type": "stream",
     "text": [
      "66\t\t0\t1\t\t0\t0\t\t0\t\t0\t\t1\t\t4901\n67\t\t0\t1\t\t0\t0\t\t0\t\t0\t\t1\t\t4901\n68\t\t0\t1\t\t0\t0\t\t0\t\t1\t\t0\t\t3767\n69\t\t0\t1\t\t0\t0\t\t0\t\t1\t\t0\t\t3767\n70\t\t0\t1\t\t0\t0\t\t0\t\t1\t\t1\t\t3412\n71\t\t0\t1\t\t0\t0\t\t0\t\t1\t\t1\t\t3412\n72\t\t0\t1\t\t0\t0\t\t1\t\t0\t\t0\t\t4724\n73\t\t0\t1\t\t0\t0\t\t1\t\t0\t\t0\t\t4724\n74\t\t0\t1\t\t0\t0\t\t1\t\t0\t\t1\t\t4508\n75\t\t0\t1\t\t0\t0\t\t1\t\t0\t\t1\t\t4508\n76\t\t0\t1\t\t0\t0\t\t1\t\t1\t\t0\t\t3386\n77\t\t0\t1\t\t0\t0\t\t1\t\t1\t\t0\t\t3386\n78\t\t0\t1\t\t0\t0\t\t1\t\t1\t\t1\t\t3249\n79\t\t0\t1\t\t0\t0\t\t1\t\t1\t\t1\t\t3249\n80\t\t0\t1\t\t0\t1\t\t0\t\t0\t\t0\t\t3957\n81\t\t0\t1\t\t0\t1\t\t0\t\t0\t\t0\t\t3957\n82\t\t0\t1\t\t0\t1\t\t0\t\t0\t\t1\t\t3635\n83\t\t0\t1\t\t0\t1\t\t0\t\t0\t\t1\t\t3635\n84\t\t0\t1\t\t0\t1\t\t0\t\t1\t\t0\t\t3311\n85\t\t0\t1\t\t0\t1\t\t0\t\t1\t\t0\t\t3311\n86\t\t0\t1\t\t0\t1\t\t0\t\t1\t\t1\t\t3018\n87\t\t0\t1\t\t0\t1\t\t0\t\t1\t\t1\t\t3018\n88\t\t0\t1\t\t0\t1\t\t1\t\t0\t\t0\t\t3614\n89\t\t0\t1\t\t0\t1\t\t1\t\t0\t\t0\t\t3614\n90\t\t0\t1\t\t0\t1\t\t1\t\t0\t\t1\t\t3476\n91\t\t0\t1\t\t0\t1\t\t1\t\t0\t\t1\t\t3476\n92\t\t0\t1\t\t0\t1\t\t1\t\t1\t\t0\t\t3010\n93\t\t0\t1\t\t0\t1\t\t1\t\t1\t\t0\t\t3010\n94\t\t0\t1\t\t0\t1\t\t1\t\t1\t\t1\t\t2889\n95\t\t0\t1\t\t0\t1\t\t1\t\t1\t\t1\t\t2889\n96\t\t0\t1\t\t1\t0\t\t0\t\t0\t\t0\t\t3758\n97\t\t0\t1\t\t1\t0\t\t0\t\t0\t\t0\t\t3758\n98\t\t0\t1\t\t1\t0\t\t0\t\t0\t\t1\t\t3393\n99\t\t0\t1\t\t1\t0\t\t0\t\t0\t\t1\t\t3393\n100\t\t0\t1\t\t1\t0\t\t0\t\t1\t\t0\t\t2520\n101\t\t0\t1\t\t1\t0\t\t0\t\t1\t\t0\t\t2520\n102\t\t0\t1\t\t1\t0\t\t0\t\t1\t\t1\t\t2355\n103\t\t0\t1\t\t1\t0\t\t0\t\t1\t\t1\t\t2355\n104\t\t0\t1\t\t1\t0\t\t1\t\t0\t\t0\t\t3382\n105\t\t0\t1\t\t1\t0\t\t1\t\t0\t\t0\t\t3382\n106\t\t0\t1\t\t1\t0\t\t1\t\t0\t\t1\t\t3265\n107\t\t0\t1\t\t1\t0\t\t1\t\t0\t\t1\t\t3265\n108\t\t0\t1\t\t1\t0\t\t1\t\t1\t\t0\t\t2350\n109\t\t0\t1\t\t1\t0\t\t1\t\t1\t\t0\t\t2350\n110\t\t0\t1\t\t1\t0\t\t1\t\t1\t\t1\t\t2270\n111\t\t0\t1\t\t1\t0\t\t1\t\t1\t\t1\t\t2270\n112\t\t0\t1\t\t1\t1\t\t0\t\t0\t\t0\t\t3010\n113\t\t0\t1\t\t1\t1\t\t0\t\t0\t\t0\t\t3010\n114\t\t0\t1\t\t1\t1\t\t0\t\t0\t\t1\t\t2845\n115\t\t0\t1\t\t1\t1\t\t0\t\t0\t\t1\t\t2845\n116\t\t0\t1\t\t1\t1\t\t0\t\t1\t\t0\t\t2416\n117\t\t0\t1\t\t1\t1\t\t0\t\t1\t\t0\t\t2416\n118\t\t0\t1\t\t1\t1\t\t0\t\t1\t\t1\t\t2269\n119\t\t0\t1\t\t1\t1\t\t0\t\t1\t\t1\t\t2269\n120\t\t0\t1\t\t1\t1\t\t1\t\t0\t\t0\t\t2828"
     ]
    },
    {
     "name": "stdout",
     "output_type": "stream",
     "text": [
      "\n121\t\t0\t1\t\t1\t1\t\t1\t\t0\t\t0\t\t2828\n122\t\t0\t1\t\t1\t1\t\t1\t\t0\t\t1\t\t2741\n123\t\t0\t1\t\t1\t1\t\t1\t\t0\t\t1\t\t2741\n124\t\t0\t1\t\t1\t1\t\t1\t\t1\t\t0\t\t2263\n125\t\t0\t1\t\t1\t1\t\t1\t\t1\t\t0\t\t2263\n126\t\t0\t1\t\t1\t1\t\t1\t\t1\t\t1\t\t2187\n127\t\t0\t1\t\t1\t1\t\t1\t\t1\t\t1\t\t2187\n128\t\t1\t0\t\t0\t0\t\t0\t\t0\t\t0\t\t0\n129\t\t1\t0\t\t0\t0\t\t0\t\t0\t\t0\t\t0\n130\t\t1\t0\t\t0\t0\t\t0\t\t0\t\t1\t\t2951\n131\t\t1\t0\t\t0\t0\t\t0\t\t0\t\t1\t\t2951\n132\t\t1\t0\t\t0\t0\t\t0\t\t1\t\t0\t\t2186\n133\t\t1\t0\t\t0\t0\t\t0\t\t1\t\t0\t\t2186\n134\t\t1\t0\t\t0\t0\t\t0\t\t1\t\t1\t\t1907\n135\t\t1\t0\t\t0\t0\t\t0\t\t1\t\t1\t\t1907\n136\t\t1\t0\t\t0\t0\t\t1\t\t0\t\t0\t\t3037\n137\t\t1\t0\t\t0\t0\t\t1\t\t0\t\t0\t\t3037\n138\t\t1\t0\t\t0\t0\t\t1\t\t0\t\t1\t\t2779\n139\t\t1\t0\t\t0\t0\t\t1\t\t0\t\t1\t\t2779\n140\t\t1\t0\t\t0\t0\t\t1\t\t1\t\t0\t\t1932\n141\t\t1\t0\t\t0\t0\t\t1\t\t1\t\t0\t\t1932\n142\t\t1\t0\t\t0\t0\t\t1\t\t1\t\t1\t\t1824\n143\t\t1\t0\t\t0\t0\t\t1\t\t1\t\t1\t\t1824\n144\t\t1\t0\t\t0\t1\t\t0\t\t0\t\t0\t\t2723\n145\t\t1\t0\t\t0\t1\t\t0\t\t0\t\t0\t\t2723\n146\t\t1\t0\t\t0\t1\t\t0\t\t0\t\t1\t\t2300\n147\t\t1\t0\t\t0\t1\t\t0\t\t0\t\t1\t\t2300\n148\t\t1\t0\t\t0\t1\t\t0\t\t1\t\t0\t\t2080\n149\t\t1\t0\t\t0\t1\t\t0\t\t1\t\t0\t\t2080\n150\t\t1\t0\t\t0\t1\t\t0\t\t1\t\t1\t\t1830\n151\t\t1\t0\t\t0\t1\t\t0\t\t1\t\t1\t\t1830\n152\t\t1\t0\t\t0\t1\t\t1\t\t0\t\t0\t\t2354\n153\t\t1\t0\t\t0\t1\t\t1\t\t0\t\t0\t\t2354\n154\t\t1\t0\t\t0\t1\t\t1\t\t0\t\t1\t\t2201\n155\t\t1\t0\t\t0\t1\t\t1\t\t0\t\t1\t\t2201\n156\t\t1\t0\t\t0\t1\t\t1\t\t1\t\t0\t\t1860\n157\t\t1\t0\t\t0\t1\t\t1\t\t1\t\t0\t\t1860\n158\t\t1\t0\t\t0\t1\t\t1\t\t1\t\t1\t\t1755\n159\t\t1\t0\t\t0\t1\t\t1\t\t1\t\t1\t\t1755\n160\t\t1\t0\t\t1\t0\t\t0\t\t0\t\t0\t\t3430\n161\t\t1\t0\t\t1\t0\t\t0\t\t0\t\t0\t\t3430\n162\t\t1\t0\t\t1\t0\t\t0\t\t0\t\t1\t\t2552\n163\t\t1\t0\t\t1\t0\t\t0\t\t0\t\t1\t\t2552\n164\t\t1\t0\t\t1\t0\t\t0\t\t1\t\t0\t\t1800\n165\t\t1\t0\t\t1\t0\t\t0\t\t1\t\t0\t\t1800\n166\t\t1\t0\t\t1\t0\t\t0\t\t1\t\t1\t\t1633\n167\t\t1\t0\t\t1\t0\t\t0\t\t1\t\t1\t\t1633\n168\t\t1\t0\t\t1\t0\t\t1\t\t0\t\t0\t\t2619\n169\t\t1\t0\t\t1\t0\t\t1\t\t0\t\t0\t\t2619\n170\t\t1\t0\t\t1\t0\t\t1\t\t0\t\t1\t\t2440\n171\t\t1\t0\t\t1\t0\t\t1\t\t0\t\t1\t\t2440\n172\t\t1\t0\t\t1\t0\t\t1\t\t1\t\t0\t\t1654\n173\t\t1\t0\t\t1\t0\t\t1\t\t1\t\t0\t\t1654\n174\t\t1\t0\t\t1\t0\t\t1\t\t1\t\t1\t\t1575\n175\t\t1\t0\t\t1\t0\t\t1\t\t1\t\t1\t\t1575\n176\t\t1\t0\t\t1\t1\t\t0\t\t0\t\t0\t\t2347\n177\t\t1\t0\t\t1\t1\t\t0\t\t0\t\t0\t\t2347\n178\t\t1\t0\t\t1\t1\t\t0\t\t0\t\t1\t\t2058\n179\t\t1\t0\t\t1\t1\t\t0\t\t0\t\t1\t\t2058\n180\t\t1\t0\t\t1\t1\t\t0\t\t1\t\t0\t\t1756\n181\t\t1\t0\t\t1\t1\t\t0\t\t1\t\t0\t\t1756\n182\t\t1\t0\t\t1\t1\t\t0\t\t1\t\t1\t\t1598\n183\t\t1\t0\t\t1\t1\t\t0\t\t1\t\t1\t\t1598\n184\t\t1\t0\t\t1\t1\t\t1\t\t0\t\t0\t\t2100\n185\t\t1\t0\t\t1\t1\t\t1\t\t0\t\t0\t\t2100\n186\t\t1\t0\t\t1\t1\t\t1\t\t0\t\t1\t\t1982\n187\t\t1\t0\t\t1\t1\t\t1\t\t0\t\t1\t\t1982\n188\t\t1\t0\t\t1\t1\t\t1\t\t1\t\t0\t\t1622\n189\t\t1\t0\t\t1\t1\t\t1\t\t1\t\t0\t\t1622\n190\t\t1\t0\t\t1\t1\t\t1\t\t1\t\t1\t\t1543\n191\t\t1\t0\t\t1\t1\t\t1\t\t1\t\t1\t\t1543\n192\t\t1\t1\t\t0\t0\t\t0\t\t0\t\t0\t\t2698\n193\t\t1\t1\t\t0\t0\t\t0\t\t0\t\t0\t\t2698\n194\t\t1\t1\t\t0\t0\t\t0\t\t0\t\t1\t\t2471\n195\t\t1\t1\t\t0\t0\t\t0\t\t0\t\t1\t\t2471\n196\t\t1\t1\t\t0\t0\t\t0\t\t1\t\t0\t\t1739\n197\t\t1\t1\t\t0\t0\t\t0\t\t1\t\t0\t\t1739\n198\t\t1\t1\t\t0\t0\t\t0\t\t1\t\t1\t\t1647\n199\t\t1\t1\t\t0\t0\t\t0\t\t1\t\t1\t\t1647\n200\t\t1\t1\t\t0\t0\t\t1\t\t0\t\t0\t\t2476\n201\t\t1\t1\t\t0\t0\t\t1\t\t0\t\t0\t\t2476\n202\t\t1\t1\t\t0\t0\t\t1\t\t0\t\t1\t\t2404\n203\t\t1\t1\t\t0\t0\t\t1\t\t0\t\t1\t\t2404\n204\t\t1\t1\t\t0\t0\t\t1\t\t1\t\t0\t\t1652\n205\t\t1\t1\t\t0\t0\t\t1\t\t1\t\t0\t\t1652\n206\t\t1\t1\t\t0\t0\t\t1\t\t1\t\t1\t\t1606\n207\t\t1\t1\t\t0\t0\t\t1\t\t1\t\t1\t\t1606\n208\t\t1\t1\t\t0\t1\t\t0\t\t0\t\t0\t\t2118\n209\t\t1\t1\t\t0\t1\t\t0\t\t0\t\t0\t\t2118\n210\t\t1\t1\t\t0\t1\t\t0\t\t0\t\t1\t\t2015\n211\t\t1\t1\t\t0\t1\t\t0\t\t0\t\t1\t\t2015\n212\t\t1\t1\t\t0\t1\t\t0\t\t1\t\t0\t\t1666\n213\t\t1\t1\t\t0\t1\t\t0\t\t1\t\t0\t\t1666\n214\t\t1\t1\t\t0\t1\t\t0\t\t1\t\t1\t\t1583\n215\t\t1\t1\t\t0\t1\t\t0\t\t1\t\t1\t\t1583\n216\t\t1\t1\t\t0\t1\t\t1\t\t0\t\t0\t\t2020\n217\t\t1\t1\t\t0\t1\t\t1\t\t0\t\t0\t\t2020\n218\t\t1\t1\t\t0\t1\t\t1\t\t0\t\t1\t\t1962\n219\t\t1\t1\t\t0\t1\t\t1\t\t0\t\t1\t\t1962\n220\t\t1\t1\t\t0\t1\t\t1\t\t1\t\t0\t\t1592\n221\t\t1\t1\t\t0\t1\t\t1\t\t1\t\t0\t\t1592\n222\t\t1\t1\t\t0\t1\t\t1\t\t1\t\t1\t\t1547\n223\t\t1\t1\t\t0\t1\t\t1\t\t1\t\t1\t\t1547\n224\t\t1\t1\t\t1\t0\t\t0\t\t0\t\t0\t\t2368\n225\t\t1\t1\t\t1\t0\t\t0\t\t0\t\t0\t\t2368\n226\t\t1\t1\t\t1\t0\t\t0\t\t0\t\t1\t\t2231\n227\t\t1\t1\t\t1\t0\t\t0\t\t0\t\t1\t\t2231\n228\t\t1\t1\t\t1\t0\t\t0\t\t1\t\t0\t\t1531\n229\t\t1\t1\t\t1\t0\t\t0\t\t1\t\t0\t\t1531\n230\t\t1\t1\t\t1\t0\t\t0\t\t1\t\t1\t\t1463\n231\t\t1\t1\t\t1\t0\t\t0\t\t1\t\t1\t\t1463\n232\t\t1\t1\t\t1\t0\t\t1\t\t0\t\t0\t\t2237\n233\t\t1\t1\t\t1\t0\t\t1\t\t0\t\t0\t\t2237\n234\t\t1\t1\t\t1\t0\t\t1\t\t0\t\t1\t\t2177\n235\t\t1\t1\t\t1\t0\t\t1\t\t0\t\t1\t\t2177\n236\t\t1\t1\t\t1\t0\t\t1\t\t1\t\t0\t\t1470\n237\t\t1\t1\t\t1\t0\t\t1\t\t1\t\t0\t\t1470\n238\t\t1\t1\t\t1\t0\t\t1\t\t1\t\t1\t\t1431\n239\t\t1\t1\t\t1\t0\t\t1\t\t1\t\t1\t\t1431\n240\t\t1\t1\t\t1\t1\t\t0\t\t0\t\t0\t\t1936\n241\t\t1\t1\t\t1\t1\t\t0\t\t0\t\t0\t\t1936\n242\t\t1\t1\t\t1\t1\t\t0\t\t0\t\t1\t\t1857\n243\t\t1\t1\t\t1\t1\t\t0\t\t0\t\t1\t\t1857\n244\t\t1\t1\t\t1\t1\t\t0\t\t1\t\t0\t\t1493\n245\t\t1\t1\t\t1\t1\t\t0\t\t1\t\t0\t\t1493\n246\t\t1\t1\t\t1\t1\t\t0\t\t1\t\t1\t\t1430\n247\t\t1\t1\t\t1\t1\t\t0\t\t1\t\t1\t\t1430\n248\t\t1\t1\t\t1\t1\t\t1\t\t0\t\t0\t\t1859\n249\t\t1\t1\t\t1\t1\t\t1\t\t0\t\t0\t\t1859\n250\t\t1\t1\t\t1\t1\t\t1\t\t0\t\t1\t\t1810\n251\t\t1\t1\t\t1\t1\t\t1\t\t0\t\t1\t\t1810\n252\t\t1\t1\t\t1\t1\t\t1\t\t1\t\t0\t\t1439\n253\t\t1\t1\t\t1\t1\t\t1\t\t1\t\t0\t\t1439\n254\t\t1\t1\t\t1\t1\t\t1\t\t1\t\t1\t\t1400\n255\t\t1\t1\t\t1\t1\t\t1\t\t1\t\t1\t\t1400\n"
     ]
    }
   ],
   "source": [
    "totall=len(data[0]);\n",
    "s_num=0;\n",
    "\n",
    "print(\"S No\\tTrue Values\\tstructSVM\\t\\tCRF\\tSVM_Single\\tSVM_Sequence\\tLogistic_Single\\tLogistic_Sequence\\tMatchings\\n\");\n",
    "for i_0 in range(2):\n",
    "    for i_1 in range(2):\n",
    "        for i_2 in range(2):\n",
    "            for i_3 in range(2):\n",
    "                for i_4 in range(2):\n",
    "                    for i_5 in range(2):\n",
    "                        for i_6 in range(2):\n",
    "                            for i_7 in range(2):\n",
    "                                current=[];\n",
    "                                matchings=0;\n",
    "                                if(i_0==1):\n",
    "                                    current.append(data[0]);\n",
    "                                if(i_1==1):\n",
    "                                    current.append(data[1]);\n",
    "                                if(i_2==1):\n",
    "                                    current.append(data[2]);\n",
    "                                if(i_3==1):\n",
    "                                    current.append(data[3]);\n",
    "                                if(i_4==1):\n",
    "                                    current.append(data[4]);\n",
    "                                if(i_5==1):\n",
    "                                    current.append(data[5]);\n",
    "                                if(i_6==1):\n",
    "                                    current.append(data[6]);\n",
    "\n",
    "                                lenn=len(current);\n",
    "                                #print(lenn);\n",
    "\n",
    "                                for i in range(totall):\n",
    "                                    flagg=True;\n",
    "                                    for j in range(lenn):\n",
    "                                        if(current[0][i]!=current[j][i]):\n",
    "                                            flagg=False;\n",
    "                                    if(lenn>1 and flagg):\n",
    "                                        matchings=matchings+1;\n",
    "\n",
    "                                print(str(s_num)+\"\\t\\t\"+str(i_0)+\"\\t\"+str(i_1)+\"\\t\\t\"+str(i_2)+\"\\t\"+str(i_3)+\"\\t\\t\"+str(i_4)+\"\\t\\t\"+str(i_5)+\"\\t\\t\"+str(i_6)+\"\\t\\t\"+str(matchings));\n",
    "                                s_num=s_num+1;"
   ]
  },
  {
   "cell_type": "code",
   "execution_count": 22,
   "metadata": {},
   "outputs": [],
   "source": [
    ""
   ]
  },
  {
   "cell_type": "code",
   "execution_count": null,
   "metadata": {},
   "outputs": [],
   "source": [
    ""
   ]
  }
 ],
 "metadata": {
  "kernelspec": {
   "display_name": "Python 2",
   "language": "python",
   "name": "python2"
  },
  "language_info": {
   "codemirror_mode": {
    "name": "ipython",
    "version": 2.0
   },
   "file_extension": ".py",
   "mimetype": "text/x-python",
   "name": "python",
   "nbconvert_exporter": "python",
   "pygments_lexer": "ipython2",
   "version": "2.7.6"
  }
 },
 "nbformat": 4,
 "nbformat_minor": 0
}