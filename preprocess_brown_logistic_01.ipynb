{
 "cells": [
  {
   "cell_type": "code",
   "execution_count": 1,
   "metadata": {
    "collapsed": true
   },
   "outputs": [],
   "source": [
    "import re\n",
    "import nltk\n",
    "\n",
    "data_folder=\"Datasets_Logistic_01/Brown_Corpus/sample/data/\";\n",
    "output_folder=\"Datasets_Logistic_01/Brown_Corpus/sample/\";\n",
    "#data_folder=\"Datasets_Logistic_01/Brown_Corpus/brown/data/\";\n",
    "#output_folder=\"Datasets_Logistic_01/Brown_Corpus/brown/\";"
   ]
  },
  {
   "cell_type": "code",
   "execution_count": 2,
   "metadata": {},
   "outputs": [],
   "source": [
    "def isMixed(token):\n",
    "    return (any([ch.isalnum() for ch in token]) and any([not ch.isalnum() for ch in token]))"
   ]
  },
  {
   "cell_type": "code",
   "execution_count": 3,
   "metadata": {},
   "outputs": [],
   "source": [
    "def getFeaturesOne(linee,pos):\n",
    "    lenn=len(linee);\n",
    "    ret=[];\n",
    "    if(pos<0 or pos>=lenn):\n",
    "        tokenn='';\n",
    "    else:\n",
    "        tokenn=linee[pos][0];\n",
    "#1\n",
    "    if(pos<0 or pos>=lenn):\n",
    "        ret.append(0);\n",
    "    else:\n",
    "        ret.append(len(tokenn));\n",
    "#2\n",
    "    if(pos<0 or pos>=lenn):\n",
    "        ret.append(0);\n",
    "    else:\n",
    "        ret.append(int(any([ch.isdigit() for ch in tokenn])));\n",
    "#3\n",
    "    if(pos<0 or pos>=lenn):\n",
    "        ret.append(0);\n",
    "    else:\n",
    "        ret.append(int(tokenn.isupper()));\n",
    "#4\n",
    "    if(pos<0 or pos>=lenn):\n",
    "        ret.append(0);\n",
    "    else:\n",
    "        ret.append(int(tokenn.istitle()));\n",
    "#5\n",
    "    if(pos<0 or pos>=lenn):\n",
    "        ret.append(0);\n",
    "    else:\n",
    "        ret.append(int(isMixed(tokenn)));\n",
    "#6\n",
    "    if(pos<0 or pos>=lenn):\n",
    "        ret.append(0);\n",
    "    else:\n",
    "        ret.append(int(tokenn.isalpha()));\n",
    "#7\n",
    "    if(pos<0 or pos>=lenn):\n",
    "        ret.append(0);\n",
    "    else:\n",
    "        ret.append(int(tokenn.islower()));\n",
    "#8\n",
    "    if(pos<0 or pos>=lenn):\n",
    "        ret.append(0);\n",
    "    else:\n",
    "        ret.append(int(tokenn.isdigit()));\n",
    "#9\n",
    "    if(pos<0 or pos>=lenn):\n",
    "        ret.append(0);\n",
    "    else:\n",
    "        ret.append(int(tokenn.isnumeric()));\n",
    "#10\n",
    "    if(pos<0 or pos>=lenn):\n",
    "        ret.append(0);\n",
    "    else:\n",
    "        ret.append(int(tokenn.endswith(\"ing\")));\n",
    "\n",
    "\n",
    "    return ret;"
   ]
  },
  {
   "cell_type": "code",
   "execution_count": 4,
   "metadata": {},
   "outputs": [],
   "source": [
    "def getFeaturesAll_01(linee,pos):\n",
    "    ret=[];\n",
    "    #ret=ret+getFeaturesOne(linee,pos-1);\n",
    "    ret=ret+getFeaturesOne(linee,pos);\n",
    "    #ret=ret+getFeaturesOne(linee,pos+1);\n",
    "    return ret;"
   ]
  },
  {
   "cell_type": "code",
   "execution_count": 5,
   "metadata": {},
   "outputs": [],
   "source": [
    "def getFeaturesAll_03(linee,pos):\n",
    "    ret=[];\n",
    "    ret=ret+getFeaturesOne(linee,pos-1);\n",
    "    ret=ret+getFeaturesOne(linee,pos);\n",
    "    ret=ret+getFeaturesOne(linee,pos+1);\n",
    "    return ret;"
   ]
  },
  {
   "cell_type": "code",
   "execution_count": 6,
   "metadata": {
    "collapsed": true
   },
   "outputs": [],
   "source": [
    "tag_to_id={};\n",
    "id_to_tag={};\n",
    "num_of_tags=0;\n",
    "\n",
    "with open(output_folder+'tags.txt') as infile:\n",
    "    for linee in infile:\n",
    "        if len(linee)>0:\n",
    "            linee=linee.rstrip('\\n');\n",
    "            num_of_tags=num_of_tags+1;\n",
    "            tag_to_id[linee]=num_of_tags;\n",
    "            id_to_tag[num_of_tags]=linee;\n",
    "\n",
    "#print(num_of_tags)\n",
    "#print(tag_to_id)"
   ]
  },
  {
   "cell_type": "code",
   "execution_count": 7,
   "metadata": {},
   "outputs": [],
   "source": [
    "train_X=[];\n",
    "train_Y=[];\n",
    "\n",
    "with open(output_folder+'train2.txt') as infile:\n",
    "    for linee in infile:\n",
    "        linee=[nltk.tag.str2tuple(t) for t in linee.split()];\n",
    "        for i in range(len(linee)):\n",
    "            featt=getFeaturesAll_01(linee,i);\n",
    "            tagg=linee[i][1];\n",
    "            id=tag_to_id[tagg];\n",
    "            train_Y.append(int(id));\n",
    "            train_X.append(featt);\n",
    "\n",
    "#print(train_X)\n",
    "#print(train_Y)"
   ]
  },
  {
   "cell_type": "code",
   "execution_count": 8,
   "metadata": {},
   "outputs": [],
   "source": [
    "test_X=[];\n",
    "test_Y=[];\n",
    "\n",
    "with open(output_folder+'test2.txt') as infile:\n",
    "    for linee in infile:\n",
    "        linee=[nltk.tag.str2tuple(t) for t in linee.split()];\n",
    "        for i in range(len(linee)):\n",
    "            featt=getFeaturesAll_01(linee,i);\n",
    "            tagg=linee[i][1];\n",
    "            id=tag_to_id[tagg];\n",
    "            test_Y.append(int(id));\n",
    "            test_X.append(featt);\n",
    "\n",
    "#print(test_X)\n",
    "#print(test_Y)"
   ]
  },
  {
   "cell_type": "code",
   "execution_count": 9,
   "metadata": {},
   "outputs": [],
   "source": [
    "from sklearn.linear_model import LogisticRegression"
   ]
  },
  {
   "cell_type": "code",
   "execution_count": 10,
   "metadata": {},
   "outputs": [],
   "source": [
    "clf = LogisticRegression();"
   ]
  },
  {
   "cell_type": "code",
   "execution_count": 11,
   "metadata": {},
   "outputs": [
    {
     "data": {
      "text/plain": [
       "LogisticRegression(C=1.0, class_weight=None, dual=False, fit_intercept=True,\n          intercept_scaling=1, max_iter=100, multi_class='ovr', n_jobs=1,\n          penalty='l2', random_state=None, solver='liblinear', tol=0.0001,\n          verbose=0, warm_start=False)"
      ]
     },
     "execution_count": 11,
     "metadata": {},
     "output_type": "execute_result"
    }
   ],
   "source": [
    "clf.fit(train_X, train_Y)"
   ]
  },
  {
   "cell_type": "code",
   "execution_count": 12,
   "metadata": {},
   "outputs": [],
   "source": [
    "predicted=clf.predict(test_X)"
   ]
  },
  {
   "cell_type": "code",
   "execution_count": 13,
   "metadata": {},
   "outputs": [],
   "source": [
    "with open(output_folder+'test4_05.ids','w') as outfile:\n",
    "    for elem in predicted:\n",
    "        outfile.write(str(elem)+\"\\n\");"
   ]
  },
  {
   "cell_type": "code",
   "execution_count": null,
   "metadata": {},
   "outputs": [],
   "source": [
    ""
   ]
  }
 ],
 "metadata": {
  "kernelspec": {
   "display_name": "Python 2",
   "language": "python",
   "name": "python2"
  },
  "language_info": {
   "codemirror_mode": {
    "name": "ipython",
    "version": 2.0
   },
   "file_extension": ".py",
   "mimetype": "text/x-python",
   "name": "python",
   "nbconvert_exporter": "python",
   "pygments_lexer": "ipython2",
   "version": "2.7.6"
  }
 },
 "nbformat": 4,
 "nbformat_minor": 0
}