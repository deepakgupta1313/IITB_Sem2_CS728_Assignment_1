{
 "cells": [
  {
   "cell_type": "code",
   "execution_count": 17,
   "metadata": {
    "collapsed": true
   },
   "outputs": [],
   "source": [
    "import re\n",
    "import nltk\n",
    "\n",
    "folder=\"Outputs/\";\n",
    "\n",
    "tag_to_id={};\n",
    "id_to_tag={};\n",
    "num_of_tags=0;\n",
    "\n",
    "with open(folder+'tags.txt') as infile:\n",
    "    for linee in infile:\n",
    "        if len(linee)>0:\n",
    "            linee=linee.rstrip('\\n');\n",
    "            num_of_tags=num_of_tags+1;\n",
    "            tag_to_id[linee]=num_of_tags;\n",
    "            id_to_tag[num_of_tags]=linee;\n",
    "\n",
    "#print(num_of_tags)\n",
    "#print(tag_to_id)"
   ]
  },
  {
   "cell_type": "code",
   "execution_count": 18,
   "metadata": {},
   "outputs": [],
   "source": [
    "rett=[];\n",
    "tempp='';\n",
    "\n",
    "with open(folder+'test4_02.outtags') as infile:\n",
    "    for tempp in infile:\n",
    "        tempp=tempp.rstrip('\\n');\n",
    "        #print(tempp)\n",
    "        if len(tempp)>0:\n",
    "            rett.append(tempp);\n",
    "\n",
    "#print(len(rett))\n",
    "\n",
    "with open(folder+\"test4_02.ids\",'w') as outfile:\n",
    "        for elem in rett:\n",
    "            id=tag_to_id[elem];\n",
    "            outfile.write(str(id)+\"\\n\");"
   ]
  },
  {
   "cell_type": "code",
   "execution_count": null,
   "metadata": {},
   "outputs": [],
   "source": [
    ""
   ]
  }
 ],
 "metadata": {
  "kernelspec": {
   "display_name": "Python 2",
   "language": "python",
   "name": "python2"
  },
  "language_info": {
   "codemirror_mode": {
    "name": "ipython",
    "version": 2.0
   },
   "file_extension": ".py",
   "mimetype": "text/x-python",
   "name": "python",
   "nbconvert_exporter": "python",
   "pygments_lexer": "ipython2",
   "version": "2.7.6"
  }
 },
 "nbformat": 4,
 "nbformat_minor": 0
}